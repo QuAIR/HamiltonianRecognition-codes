{
 "cells": [
  {
   "cell_type": "code",
   "execution_count": 1,
   "metadata": {},
   "outputs": [
    {
     "name": "stderr",
     "output_type": "stream",
     "text": [
      "Please first ``pip install -U cirq`` to enable related functionality in translation module\n"
     ]
    }
   ],
   "source": [
    "import tensorcircuit as tc\n",
    "from tensorcircuit import Circuit\n",
    "\n",
    "import numpy as np"
   ]
  },
  {
   "cell_type": "code",
   "execution_count": 2,
   "metadata": {},
   "outputs": [
    {
     "data": {
      "text/plain": [
       "[tencent::tianji_s2v6,\n",
       " tencent::simulator:tc,\n",
       " tencent::tianji_m2v14s2,\n",
       " tencent::tianji_m1v15s1,\n",
       " tencent::tianji_m1v15s2,\n",
       " tencent::tianji_m2,\n",
       " tencent::tianji_m1v15s3,\n",
       " tencent::tianji_m1v15s4,\n",
       " tencent::tianji_s2v7,\n",
       " tencent::tianji_m2v16s1,\n",
       " tencent::tianji_m2v14s4,\n",
       " tencent::tianji_m1,\n",
       " tencent::tianji_s2,\n",
       " tencent::tianxuan_s1,\n",
       " tencent::tianji_m2v15s3,\n",
       " tencent::tianxuan_s2v20]"
      ]
     },
     "execution_count": 2,
     "metadata": {},
     "output_type": "execute_result"
    }
   ],
   "source": [
    "from tensorcircuit.cloud import apis\n",
    "apis.set_token(\"ENTER YOUR TOKEN HERE\")\n",
    "\n",
    "# The following is a list of avaliable QPU devices.\n",
    "apis.list_devices(provider=\"tencent\")"
   ]
  },
  {
   "cell_type": "markdown",
   "metadata": {},
   "source": [
    "Determine QPU devices."
   ]
  },
  {
   "cell_type": "code",
   "execution_count": 3,
   "metadata": {},
   "outputs": [],
   "source": [
    "QPU_DEVICE = \"tianji_s2v6\""
   ]
  },
  {
   "cell_type": "code",
   "execution_count": 4,
   "metadata": {},
   "outputs": [],
   "source": [
    "from angle.wx_angles import quantum_signal_processing\n",
    "from numpy.polynomial.polynomial import Polynomial\n",
    "from numpy.polynomial.chebyshev import cheb2poly"
   ]
  },
  {
   "cell_type": "markdown",
   "metadata": {},
   "source": [
    "## Algorithm\n",
    "\n",
    "**Input**: $k$ copies of an evolution dynamic $U_{H}(\\theta) = e^{-iH \\theta}$, where $k$ is odd, $t \\in \\mathbb{R}$ is unknown and $H$ is an unknown Hamiltonian from a known set $\\{X, Z\\}$.\n",
    "\n",
    "**Output**: 1 bit as a guess of $H$, where '0' stands for $Z$ and '1' stands for $X$.\n",
    "\n",
    "1. Determine the vector of angles $\\vec{\\phi} = \\phi_0, \\ldots, \\phi_k$. \n",
    "2. Construct the single-qubit circuit ${\\rm QSP}_{H,k}(\\theta)$.\n",
    "3. Input the zero state $\\ket{0}$, run the circuit. Then perform a computational basis measurement at the end, and return the measurement outcome."
   ]
  },
  {
   "cell_type": "markdown",
   "metadata": {},
   "source": [
    "## Input setting"
   ]
  },
  {
   "cell_type": "code",
   "execution_count": 5,
   "metadata": {},
   "outputs": [],
   "source": [
    "num_shot = 64\n",
    "total_shots = 1024"
   ]
  },
  {
   "cell_type": "code",
   "execution_count": 6,
   "metadata": {},
   "outputs": [],
   "source": [
    "list_theta = np.linspace(0, 2 * np.pi, num_shot, endpoint=False)"
   ]
  },
  {
   "cell_type": "markdown",
   "metadata": {},
   "source": [
    "Prepare angle"
   ]
  },
  {
   "cell_type": "code",
   "execution_count": 7,
   "metadata": {},
   "outputs": [],
   "source": [
    "def phi_set(k: int) -> np.ndarray:\n",
    "    r\"\"\"Compute the angle for the QSP circuit.\n",
    "    \n",
    "    Args:\n",
    "        k: depth\n",
    "        \n",
    "    Returns:\n",
    "        phi angles for Wx-based QSP\n",
    "    \n",
    "    \"\"\"\n",
    "    chebyshev_coef = np.zeros([k + 1])\n",
    "    for i in range(k + 1):\n",
    "        if i % 2 == 1:\n",
    "            chebyshev_coef[i] = -1\n",
    "    chebyshev_coef = chebyshev_coef * 2 / (k + 1)\n",
    "    \n",
    "    P = Polynomial(cheb2poly(chebyshev_coef))\n",
    "    return quantum_signal_processing(P)"
   ]
  },
  {
   "cell_type": "markdown",
   "metadata": {},
   "source": [
    "Prepare Algorithm"
   ]
  },
  {
   "cell_type": "code",
   "execution_count": 8,
   "metadata": {},
   "outputs": [],
   "source": [
    "def _qsp(label: str, list_phi: np.ndarray, theta: np.ndarray) -> Circuit:\n",
    "    cir = Circuit(1)\n",
    "    cir.rz(0, theta=-2 * list_phi[0])\n",
    "    \n",
    "    for phi in list_phi[1:]:\n",
    "        if label == '0':\n",
    "            cir.rz(0, theta=theta)\n",
    "        else:\n",
    "            cir.rx(0, theta=theta)\n",
    "        cir.rz(0, theta=-2 * phi)\n",
    "    return cir\n",
    "\n",
    "def algorithm1(label: str, k: int) -> np.ndarray:\n",
    "    r\"\"\"Implementation of the algorithm 1 that runs 64 times, theta is uniformly sampled from [0, 2 * pi].\n",
    "    \n",
    "    Args:\n",
    "        label: label of the input unknown evolution operator; 0, 1 stand for Z and X, respectively.\n",
    "        k: number of available copies\n",
    "    \n",
    "    Returns:\n",
    "        the experimental probability of correctly guessing the label\n",
    "    \n",
    "    \"\"\"\n",
    "    if num_shot > 64:\n",
    "        raise NotImplementedError(\n",
    "            \"The number of shots is too large for Tencent Cloud platform.\")\n",
    "\n",
    "    list_phi = phi_set(k)\n",
    "    list_cir = [_qsp(label, list_phi, theta) for theta in list_theta]\n",
    "\n",
    "    ts = apis.submit_task(\n",
    "        circuit=list_cir,\n",
    "        # provider=\"local\",\n",
    "        # device=\"testing\",\n",
    "        device=QPU_DEVICE,\n",
    "        shots=total_shots,\n",
    "    )\n",
    "    correct_shots = np.array([(t.results()[label] if label in t.results() else 0) for t in ts])\n",
    "    return correct_shots / total_shots"
   ]
  },
  {
   "cell_type": "markdown",
   "metadata": {},
   "source": [
    "## Begin experiment"
   ]
  },
  {
   "cell_type": "code",
   "execution_count": 9,
   "metadata": {},
   "outputs": [],
   "source": [
    "def experiment(k: int) -> int:\n",
    "    r\"\"\"Perform the experiment for a given k\n",
    "    \n",
    "    Args:\n",
    "        k: number of available copies\n",
    "    \n",
    "    Returns:\n",
    "        the experimental probability of success\n",
    "    \n",
    "    \"\"\"\n",
    "    assert k % 2 == 1, \"k must be odd\"\n",
    "\n",
    "    list_label = ['0', '1']\n",
    "    return np.stack([algorithm1(label, k) for label in list_label])"
   ]
  },
  {
   "cell_type": "code",
   "execution_count": 10,
   "metadata": {},
   "outputs": [
    {
     "name": "stderr",
     "output_type": "stream",
     "text": [
      "c:\\Users\\Cloud\\Hamiltonian-sensing\\angle\\wx_angles.py:190: UserWarning: Phi verification failed: y - P(x) = (-3.900344329732519e-07-1.350558782482747e-06j), error = 1.4057510035017033e-06\n",
      "  warnings.warn(\"Phi verification failed: \" +\n",
      "c:\\Users\\Cloud\\Hamiltonian-sensing\\angle\\wx_angles.py:190: UserWarning: Phi verification failed: y - P(x) = (-6.974535588233355e-07-7.585115738232423e-07j), error = 1.0304277142716747e-06\n",
      "  warnings.warn(\"Phi verification failed: \" +\n"
     ]
    }
   ],
   "source": [
    "list_k = np.array([3, 5, 7, 9, 11, 13, 15])\n",
    "ideal_success = ((2 * list_k + 1) / (2 * list_k + 2))\n",
    "\n",
    "list_experiment_success = np.stack([experiment(k) for k in list_k])"
   ]
  },
  {
   "cell_type": "code",
   "execution_count": 11,
   "metadata": {},
   "outputs": [
    {
     "data": {
      "text/plain": [
       "array([0.        , 0.09817477, 0.19634954, 0.29452431, 0.39269908,\n",
       "       0.49087385, 0.58904862, 0.68722339, 0.78539816, 0.88357293,\n",
       "       0.9817477 , 1.07992247, 1.17809725, 1.27627202, 1.37444679,\n",
       "       1.47262156, 1.57079633, 1.6689711 , 1.76714587, 1.86532064,\n",
       "       1.96349541, 2.06167018, 2.15984495, 2.25801972, 2.35619449,\n",
       "       2.45436926, 2.55254403, 2.6507188 , 2.74889357, 2.84706834,\n",
       "       2.94524311, 3.04341788, 3.14159265, 3.23976742, 3.33794219,\n",
       "       3.43611696, 3.53429174, 3.63246651, 3.73064128, 3.82881605,\n",
       "       3.92699082, 4.02516559, 4.12334036, 4.22151513, 4.3196899 ,\n",
       "       4.41786467, 4.51603944, 4.61421421, 4.71238898, 4.81056375,\n",
       "       4.90873852, 5.00691329, 5.10508806, 5.20326283, 5.3014376 ,\n",
       "       5.39961237, 5.49778714, 5.59596191, 5.69413668, 5.79231146,\n",
       "       5.89048623, 5.988661  , 6.08683577, 6.18501054])"
      ]
     },
     "execution_count": 11,
     "metadata": {},
     "output_type": "execute_result"
    }
   ],
   "source": [
    "list_theta"
   ]
  },
  {
   "cell_type": "code",
   "execution_count": 12,
   "metadata": {},
   "outputs": [
    {
     "data": {
      "text/plain": [
       "array([0.875     , 0.91666667, 0.9375    , 0.95      , 0.95833333,\n",
       "       0.96428571, 0.96875   ])"
      ]
     },
     "execution_count": 12,
     "metadata": {},
     "output_type": "execute_result"
    }
   ],
   "source": [
    "ideal_success"
   ]
  },
  {
   "cell_type": "code",
   "execution_count": 13,
   "metadata": {},
   "outputs": [
    {
     "data": {
      "text/plain": [
       "(7, 2, 64)"
      ]
     },
     "execution_count": 13,
     "metadata": {},
     "output_type": "execute_result"
    }
   ],
   "source": [
    "list_experiment_success.shape"
   ]
  },
  {
   "cell_type": "code",
   "execution_count": 14,
   "metadata": {},
   "outputs": [],
   "source": [
    "np.save(\"tc_k.npy\", list_k)\n",
    "np.save(\"tc_theta.npy\", list_theta)\n",
    "np.save(\"tc_xz.npy\", list_experiment_success)"
   ]
  }
 ],
 "metadata": {
  "kernelspec": {
   "display_name": "sensing",
   "language": "python",
   "name": "python3"
  },
  "language_info": {
   "codemirror_mode": {
    "name": "ipython",
    "version": 3
   },
   "file_extension": ".py",
   "mimetype": "text/x-python",
   "name": "python",
   "nbconvert_exporter": "python",
   "pygments_lexer": "ipython3",
   "version": "3.10.15"
  }
 },
 "nbformat": 4,
 "nbformat_minor": 2
}
