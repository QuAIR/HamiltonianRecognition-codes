{
 "cells": [
  {
   "cell_type": "markdown",
   "metadata": {},
   "source": [
    "The notebook verifies the binary Hamiltonian recognition algorithm in [1] that matches the claim in Theorem 1. Note that the package `quairkit` is required to run the notebook. The package can be installed by running `pip install quairkit`."
   ]
  },
  {
   "cell_type": "code",
   "execution_count": 1,
   "metadata": {},
   "outputs": [],
   "source": [
    "import quairkit as qkit\n",
    "from quairkit import Circuit\n",
    "from quairkit.loss import Measure\n",
    "from quairkit.database import *\n",
    "\n",
    "import numpy as np\n",
    "from numpy.polynomial.polynomial import Polynomial\n",
    "from numpy.polynomial.chebyshev import cheb2poly\n",
    "\n",
    "from wx_angles import quantum_signal_processing\n",
    "\n",
    "qkit.set_dtype('complex128')"
   ]
  },
  {
   "cell_type": "markdown",
   "metadata": {},
   "source": [
    "## Algorithm of Binary Hamiltonian Recognition\n",
    "\n",
    "**Input**: $k$ copies of an evolution dynamic $U_{H}(\\theta) = e^{-iH \\theta}$, where $k$ is odd, $t \\in \\mathbb{R}$ is unknown and $H$ is an unknown Hamiltonian from a known set $\\{X, Z\\}$.\n",
    "\n",
    "**Output**: 1 bit as a guess of $H$, where '0' stands for $Z$ and '1' stands for $X$."
   ]
  },
  {
   "cell_type": "markdown",
   "metadata": {},
   "source": [
    "### Step 1. Compute Angle\n",
    "\n",
    "Determine the vector of angles $\\vec{\\phi} = \\phi_0, \\ldots, \\phi_k$ such that\n",
    "$$\n",
    "\\bra{0} R_z(\\phi_0) \\prod_{j=1}^k W_x(a) R_z(\\phi_j) \\ket{0}  = \\frac{2}{k+1} \\sum_{l=1,\\,l\\text{ odd}}^{k} T_l(a)\n",
    ",$$\n",
    "The angle computation logic is referred to Theorem 3-5 in [2], and is implemented by the qsvt module in [3]."
   ]
  },
  {
   "cell_type": "code",
   "execution_count": 2,
   "metadata": {},
   "outputs": [],
   "source": [
    "def phi_set(k: int) -> np.ndarray:\n",
    "    r\"\"\"Compute the angle for the QSP circuit.\n",
    "    \n",
    "    Args:\n",
    "        k: depth\n",
    "        \n",
    "    Returns:\n",
    "        phi angles for Wx-based QSP\n",
    "    \n",
    "    \"\"\"\n",
    "    chebyshev_coef = np.zeros([k + 1])\n",
    "    for i in range(k + 1):\n",
    "        if i % 2 == 1:\n",
    "            chebyshev_coef[i] = -1\n",
    "    chebyshev_coef = chebyshev_coef * 2 / (k + 1)\n",
    "    \n",
    "    P = Polynomial(cheb2poly(chebyshev_coef))\n",
    "    return quantum_signal_processing(P) * -2"
   ]
  },
  {
   "cell_type": "markdown",
   "metadata": {},
   "source": [
    "### Step 2: Construct circuit\n",
    "\n",
    "Construct the single-qubit circuit\n",
    "$$\n",
    "    {\\rm QSP}_{H,k}(\\theta) = R_z(\\phi_0) \\prod_{j=1}^k U_{H}(\\theta) R_z(\\phi_j)\n",
    ".$$"
   ]
  },
  {
   "cell_type": "code",
   "execution_count": 3,
   "metadata": {},
   "outputs": [],
   "source": [
    "def _qsp(label: str, list_phi: np.ndarray, theta: np.ndarray) -> Circuit:\n",
    "    cir = Circuit(1)\n",
    "    cir.rz(param=list_phi[0])\n",
    "    \n",
    "    for phi in list_phi[1:]:\n",
    "        if label == '0':\n",
    "            cir.rz(param=theta)\n",
    "        else:\n",
    "            cir.rx(param=theta)\n",
    "        cir.rz(param=phi)\n",
    "    return cir"
   ]
  },
  {
   "cell_type": "markdown",
   "metadata": {},
   "source": [
    "### Step 3: Run circuit\n",
    "\n",
    "Input the zero state $\\ket{0}$, run the circuit. Then perform a computational basis measurement at the end, and return the measurement outcome."
   ]
  },
  {
   "cell_type": "code",
   "execution_count": 4,
   "metadata": {},
   "outputs": [],
   "source": [
    "num_shot = 1000\n",
    "M = Measure()\n",
    "\n",
    "def algorithm1(label: str, k: int) -> float:\n",
    "    r\"\"\"Implementation of the algorithm 1 for 1000 angles uniformly sampled from [0, 2 * pi).\n",
    "    \n",
    "    Args:\n",
    "        label: label of the input unknown evolution operator\n",
    "        k: number of available copies\n",
    "    \n",
    "    Returns:\n",
    "        the average success probability of correctly guessing the input label\n",
    "    \n",
    "    \"\"\"\n",
    "    list_theta = np.linspace(0, 2 * np.pi, num_shot)\n",
    "    \n",
    "    list_phi = phi_set(k)\n",
    "    cir = _qsp(label, list_phi, list_theta) # 1000 circuits\n",
    "    output_state = cir()\n",
    "    \n",
    "    success_prob = M(output_state, desired_result=label)\n",
    "    return success_prob.mean().item()"
   ]
  },
  {
   "cell_type": "markdown",
   "metadata": {},
   "source": [
    "## Verification\n",
    "\n",
    "Theorem 1 in [1] states that, the theoretical average success probability of this algorithm is $(2k + 1) / (2k + 2)$. We can show that for odd $k \\in \\{3, \\ldots, 15\\}$, the worst experimental error is no larger than $0.001$."
   ]
  },
  {
   "cell_type": "code",
   "execution_count": 5,
   "metadata": {},
   "outputs": [],
   "source": [
    "def experiment(k: int) -> int:\n",
    "    r\"\"\"Perform the experiment for a given k\n",
    "    \n",
    "    Args:\n",
    "        k: number of available copies\n",
    "    \n",
    "    Returns:\n",
    "        the experimental average probability of success\n",
    "    \n",
    "    \"\"\"\n",
    "    assert k % 2 == 1 and 3 <= k <= 15\n",
    "\n",
    "    success_z, success_x = algorithm1('0', k), algorithm1('1', k)\n",
    "    return (success_z + success_x) / 2"
   ]
  },
  {
   "cell_type": "code",
   "execution_count": 6,
   "metadata": {},
   "outputs": [],
   "source": [
    "list_k = np.array([15])\n",
    "list_ideal_success = ((2 * list_k + 1) / (2 * list_k + 2))\n",
    "\n",
    "list_experiment_success = np.array([experiment(k) for k in list_k])"
   ]
  },
  {
   "cell_type": "code",
   "execution_count": 7,
   "metadata": {},
   "outputs": [
    {
     "name": "stdout",
     "output_type": "stream",
     "text": [
      "The maximal gap between the ideal and experimental success probability is 0.0004687500000937206\n"
     ]
    }
   ],
   "source": [
    "print('The maximal gap between the ideal and experimental success probability is', np.max(np.abs(list_ideal_success - list_experiment_success)))"
   ]
  },
  {
   "cell_type": "markdown",
   "metadata": {},
   "source": [
    "---\n",
    "\n",
    "## References\n",
    "\n",
    "[1] C. Zhu, S. He, Y. Chen, L. Zhang, and X. Wang, Optimal Hamiltonian Recognition of Unknown Quantum Dynamics (2024), arXiv:2412.13067.\n",
    "\n",
    "[2] A. Gilyén, Y. Su, G. H. Low, and N. Wiebe, Quantum singular value transformation and beyond: exponential improvements for quantum matrix arithmetics, in Proceedings of the 51st Annual ACM SIGACT Symposium on Theory of Computing, STOC 19 (ACM, 2019).\n",
    "\n",
    "[3] Baidu Research Quantum, Paddle Quantum, 2020."
   ]
  },
  {
   "cell_type": "markdown",
   "metadata": {},
   "source": [
    "*Table: A reference of notation conventions.*\n",
    "\n",
    "| Symbol        | Description                               |\n",
    "|:---------------:|-------------------------------------------|\n",
    "|  $\\phi_j, \\theta$ |  rotation angles  |\n",
    "|  $R_x, R_z$ |   the rotation gates w.r.t. $x, z$ axis |\n",
    "|  $W_x(a)$ |  $R_x(-2 \\arccos(a))$  |\n",
    "|  $T_l$ |  $l$-th Chebyshev polynomial of the first kind  |\n"
   ]
  },
  {
   "cell_type": "code",
   "execution_count": 8,
   "metadata": {},
   "outputs": [
    {
     "name": "stdout",
     "output_type": "stream",
     "text": [
      "\n",
      "---------VERSION---------\n",
      "quairkit: 0.3.0\n",
      "torch: 2.5.1+cpu\n",
      "numpy: 1.26.0\n",
      "scipy: 1.14.1\n",
      "matplotlib: 3.10.0\n",
      "---------SYSTEM---------\n",
      "Python version: 3.10.15\n",
      "OS: Windows\n",
      "OS version: 10.0.26100\n",
      "---------DEVICE---------\n",
      "CPU: ARMv8 (64-bit) Family 8 Model 1 Revision 201, Qualcomm Technologies Inc\n"
     ]
    }
   ],
   "source": [
    "qkit.print_info()"
   ]
  }
 ],
 "metadata": {
  "kernelspec": {
   "display_name": "sensing",
   "language": "python",
   "name": "python3"
  },
  "language_info": {
   "codemirror_mode": {
    "name": "ipython",
    "version": 3
   },
   "file_extension": ".py",
   "mimetype": "text/x-python",
   "name": "python",
   "nbconvert_exporter": "python",
   "pygments_lexer": "ipython3",
   "version": "3.10.15"
  }
 },
 "nbformat": 4,
 "nbformat_minor": 2
}
